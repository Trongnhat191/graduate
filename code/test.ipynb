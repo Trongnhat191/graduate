{
 "cells": [
  {
   "cell_type": "code",
   "execution_count": 6,
   "metadata": {},
   "outputs": [],
   "source": [
    "from groq import Groq\n",
    "import os\n",
    "\n",
    "#import from .env\n",
    "from dotenv import load_dotenv\n",
    "load_dotenv()\n",
    "# Get the environment variables\n",
    "groq_api_key = os.getenv('GROQ_API_KEY')"
   ]
  },
  {
   "cell_type": "markdown",
   "metadata": {},
   "source": [
    "# 1. LLM"
   ]
  },
  {
   "cell_type": "code",
   "execution_count": null,
   "metadata": {},
   "outputs": [
    {
     "name": "stdout",
     "output_type": "stream",
     "text": [
      "As a nutrition expert, I can help you identify the nutritional components of chicken breast. Here's a breakdown of the nutrients present in 100g of cooked chicken breast:\n",
      "\n",
      "**Energy:** 165.0 kcal (kilocalories)\n",
      "\n",
      "**Macronutrients:**\n",
      "\n",
      "* **Protein:** 20.42g (essential amino acids for muscle growth and repair)\n",
      "* **Total lipid (fat):** 8.1g (mostly unsaturated fats, which are beneficial for heart health)\n",
      "* **Carbohydrate:** 1.06g (minimal amount of carbs, making chicken breast a low-carb option)\n",
      "* **Total Sugars:** 0.7g (naturally occurring sugars)\n",
      "\n",
      "**Micronutrients:**\n",
      "\n",
      "* **Iron, Fe:** 0.38mg (important for transporting oxygen throughout the body)\n",
      "* **Vitamin A, IU:** 352.0 IU (important for vision, immune function, and skin health)\n",
      "* **Vitamin C, total ascorbic acid:** 1.7mg (important for immune function, collagen production, and iron absorption)\n",
      "* **Calcium, Ca:** 158.0mg (important for bone health and muscle function)\n",
      "\n",
      "**Other nutrients:**\n",
      "\n",
      "* **Cholesterol:** 67.0mg (relatively low amount)\n",
      "* **Sodium, Na:** 433.0mg (a moderate amount, which can be beneficial for blood pressure management)\n",
      "* **Fiber, total dietary:** 0.0g (chicken breast is a low-fiber food)\n",
      "* **Fatty acids, total trans:** 0.0g (no trans fats present)\n",
      "* **Fatty acids, total saturated:** 4.58g (relatively low amount of saturated fats)\n",
      "\n",
      "Overall, chicken breast is a lean protein source that provides a good balance of macronutrients, micromutrients, and minerals. It is a healthy option for those looking to incorporate more protein into their diet.\n"
     ]
    }
   ],
   "source": [
    "client = Groq(\n",
    "    # This is the default and can be omitted\n",
    "    api_key=groq_api_key,\n",
    ")\n",
    "\n",
    "chat_completion = client.chat.completions.create(\n",
    "    messages=[\n",
    "        {\n",
    "            \"role\": \"system\",\n",
    "            \"content\": \"Bạn là chuyên gia dinh dưỡng.\"\n",
    "        },\n",
    "        {\n",
    "            \"role\": \"user\",\n",
    "            \"content\": f\" Thành phần dinh dưỡng của  là gì? {food_nutrition}\",\n",
    "        }\n",
    "    ],\n",
    "    model=\"llama-3.3-70b-versatile\",\n",
    ")\n",
    "\n",
    "print(chat_completion.choices[0].message.content)"
   ]
  },
  {
   "cell_type": "markdown",
   "metadata": {},
   "source": [
    "# 2. FOOD API\n"
   ]
  },
  {
   "cell_type": "code",
   "execution_count": null,
   "metadata": {},
   "outputs": [
    {
     "name": "stdout",
     "output_type": "stream",
     "text": [
      "Food ID: 2187885\n",
      "Food Name: CHICKEN BREAST\n",
      "Energy: 165.0 kcal\n",
      "Iron, Fe: 0.38 mg\n",
      "Total lipid (fat): 8.1 g\n",
      "Cholesterol: 67.0 mg\n",
      "Sodium, Na: 433.0 mg\n",
      "Fatty acids, total trans: 0.0 g\n",
      "Vitamin A, IU: 352.0 IU\n",
      "Carbohydrate, by difference: 1.06 g\n",
      "Total Sugars: 0.7 g\n",
      "Fatty acids, total saturated: 4.58 g\n",
      "Vitamin C, total ascorbic acid: 1.7 mg\n",
      "Calcium, Ca: 158.0 mg\n",
      "Protein: 20.42 g\n",
      "Fiber, total dietary: 0.0 g\n"
     ]
    }
   ],
   "source": [
    "import requests\n",
    "\n",
    "USDA_API_KEY = os.getenv('USDA_API_KEY')\n",
    "\n",
    "query = \"chicken breast\"\n",
    "\n",
    "url1 = f\"https://api.nal.usda.gov/fdc/v1/foods/search?query={query}&api_key={USDA_API_KEY}\"\n",
    "response1 = requests.get(url1)\n",
    "data1 = response1.json()\n",
    "food_id = data1['foods'][0]['fdcId']\n",
    "# print(f\"Food ID: {food_id}\")\n",
    "\n",
    "# # Make a request to get the food details\n",
    "url = f\"https://api.nal.usda.gov/fdc/v1/food/{food_id}?api_key={USDA_API_KEY}\"\n",
    "response = requests.get(url)\n",
    "food_data = response.json()\n",
    "# food_name = food_data['description']\n",
    "# print(f\"Food Name: {food_name}\")\n",
    "# Extract the nutrition information\n",
    "nutrition_infos = food_data['foodNutrients']\n",
    "# Print the nutrition information\n",
    "food_nutrition = ''\n",
    "for nutrition_info in nutrition_infos:\n",
    "    nutrient = nutrition_info['nutrient']\n",
    "    nutrient_name = nutrient['name']\n",
    "    nutrient_value = nutrition_info['amount']\n",
    "    nutrient_unit = nutrient['unitName']\n",
    "    print(f\"{nutrient_name}: {nutrient_value} {nutrient_unit}\")\n",
    "    ######\n",
    "    food_nutrition += f\"{nutrient_name}: {nutrient_value} {nutrient_unit}\\n\""
   ]
  }
 ],
 "metadata": {
  "kernelspec": {
   "display_name": "graduate",
   "language": "python",
   "name": "python3"
  },
  "language_info": {
   "codemirror_mode": {
    "name": "ipython",
    "version": 3
   },
   "file_extension": ".py",
   "mimetype": "text/x-python",
   "name": "python",
   "nbconvert_exporter": "python",
   "pygments_lexer": "ipython3",
   "version": "3.10.16"
  }
 },
 "nbformat": 4,
 "nbformat_minor": 2
}
