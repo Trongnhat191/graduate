{
 "cells": [
  {
   "cell_type": "markdown",
   "metadata": {},
   "source": [
    "# I. First"
   ]
  },
  {
   "cell_type": "code",
   "execution_count": 9,
   "metadata": {},
   "outputs": [
    {
     "data": {
      "text/plain": [
       "True"
      ]
     },
     "execution_count": 9,
     "metadata": {},
     "output_type": "execute_result"
    }
   ],
   "source": [
    "from dotenv import load_dotenv\n",
    "import os\n",
    "load_dotenv()"
   ]
  },
  {
   "cell_type": "code",
   "execution_count": 10,
   "metadata": {},
   "outputs": [],
   "source": [
    "GROQ_API_KEY = os.getenv(\"GROQ_API_KEY\")"
   ]
  },
  {
   "cell_type": "code",
   "execution_count": 11,
   "metadata": {},
   "outputs": [],
   "source": [
    "from langgraph.graph import StateGraph, START, END\n",
    "from langgraph.graph.message import add_messages\n",
    "from typing import Annotated\n",
    "from langchain_groq import ChatGroq\n",
    "from typing_extensions import TypedDict"
   ]
  },
  {
   "cell_type": "code",
   "execution_count": 12,
   "metadata": {},
   "outputs": [],
   "source": [
    "from typing import Annotated\n",
    "\n",
    "# from langchain_anthropic import ChatAnthropic\n",
    "from typing_extensions import TypedDict\n",
    "\n",
    "from langgraph.graph import StateGraph\n",
    "from langgraph.graph.message import add_messages\n",
    "\n",
    "\n",
    "class State(TypedDict):\n",
    "    messages: Annotated[list, add_messages]\n",
    "\n",
    "\n",
    "graph_builder = StateGraph(State)\n",
    "\n",
    "\n",
    "llm = ChatGroq(model_name = 'llama-3.1-8b-instant', api_key = GROQ_API_KEY)\n",
    "\n",
    "\n",
    "def chatbot(state: State):\n",
    "    return {\"messages\": [llm.invoke(state[\"messages\"])]}\n",
    "\n",
    "\n",
    "# The first argument is the unique node name\n",
    "# The second argument is the function or object that will be called whenever\n",
    "# the node is used.\n",
    "graph_builder.add_node(\"chatbot\", chatbot)\n",
    "graph_builder.set_entry_point(\"chatbot\")\n",
    "graph_builder.set_finish_point(\"chatbot\")\n",
    "graph = graph_builder.compile()"
   ]
  },
  {
   "cell_type": "code",
   "execution_count": 13,
   "metadata": {},
   "outputs": [
    {
     "data": {
      "image/png": "[encoded data removed]",
      "text/plain": [
       "<IPython.core.display.Image object>"
      ]
     },
     "metadata": {},
     "output_type": "display_data"
    }
   ],
   "source": [
    "from IPython.display import Image, display\n",
    "\n",
    "display(Image(graph.get_graph().draw_mermaid_png()))"
   ]
  },
  {
   "cell_type": "code",
   "execution_count": 14,
   "metadata": {},
   "outputs": [
    {
     "name": "stdout",
     "output_type": "stream",
     "text": [
      "Assistant: It seems like you didn't ask a question. How can I assist you today?\n",
      "Assistant: It seems like you haven't asked a question or provided any context for our conversation. How can I assist you today?\n",
      "Assistant: It seems like you might have intended to ask a question, but it appears to be missing. Please feel free to ask a question or start a conversation, and I'll do my best to assist you.\n",
      "Assistant: It seems like you forgot to ask a question. How can I assist you today?\n",
      "Assistant: There are many ways to interpret \"escape.\" Here are a few possibilities:\n",
      "\n",
      "1. **Physical Escape**: To physically escape from a place or situation, you might need to find a way out, like unlocking a door, breaking free from restraints, or escaping through a window.\n",
      "2. **Mental Escape**: To mentally escape from stress, anxiety, or other emotional burdens, you might need to find healthy coping mechanisms, such as meditation, exercise, or creative pursuits.\n",
      "3. **Virtual Escape**: To virtually escape through gaming, you might need to focus on a virtual world, like playing a game, watching a movie, or engaging in a virtual reality experience.\n",
      "4. **Emotional Escape**: To emotionally escape from painful memories or difficult relationships, you might need to seek support from loved ones, a therapist, or a support group.\n",
      "\n",
      "If you're looking for a specific type of escape or have a particular situation in mind, feel free to provide more context, and I'll do my best to help.\n",
      "\n",
      "Would you like to discuss any of these types of escapes or something else related to escaping?\n",
      "Assistant: There are many ways to interpret \"escape.\" Here are a few possibilities:\n",
      "\n",
      "1. **Escape Room**: An escape room is a physical adventure game in which players are locked in a themed room and must use clues and solve puzzles to escape within a certain time limit.\n",
      "\n",
      "2. **Video Games**: In video games, \"escape\" can refer to the act of escaping from a level, a game mode, or a situation. For example, in a survival game, the player might need to escape from a zombie-infested area.\n",
      "\n",
      "3. **Literature and Film**: In literature and film, \"escape\" can refer to a character's attempt to flee their circumstances or environment. For example, a character might escape from a prison or a dystopian society.\n",
      "\n",
      "4. **Real-Life Situations**: In real life, \"escape\" can refer to a situation where someone needs to get away from a difficult or threatening situation. For example, a person might need to escape from a natural disaster or a violent relationship.\n",
      "\n",
      "5. **Mental Health**: \"Escape\" can also refer to a mental health concept, where someone might feel the need to escape from their thoughts, emotions, or reality. This can be a result of anxiety, depression, or other mental health conditions.\n",
      "\n",
      "Which interpretation of \"escape\" were you thinking of? Or would you like to know more about a specific one?\n",
      "Goodbye!\n"
     ]
    }
   ],
   "source": [
    "def stream_graph_updates(user_input: str):\n",
    "    for event in graph.stream({\"messages\": [{\"role\": \"user\", \"content\": user_input}]}):\n",
    "        for value in event.values():\n",
    "            print(\"Assistant:\", value[\"messages\"][-1].content)\n",
    "\n",
    "\n",
    "while True:\n",
    "    try:\n",
    "        user_input = input(\"User: \")\n",
    "        if user_input.lower() in [\"quit\", \"exit\", \"q\"]:\n",
    "            print(\"Goodbye!\")\n",
    "            break\n",
    "\n",
    "        stream_graph_updates(user_input)\n",
    "    except:\n",
    "        # fallback if input() is not available\n",
    "        user_input = \"What do you know about LangGraph?\"\n",
    "        print(\"User: \" + user_input)\n",
    "        stream_graph_updates(user_input)\n",
    "        break"
   ]
  },
  {
   "cell_type": "markdown",
   "metadata": {},
   "source": [
    "# II. Prebuilt Agent\n"
   ]
  },
  {
   "cell_type": "code",
   "execution_count": 10,
   "metadata": {},
   "outputs": [
    {
     "name": "stdout",
     "output_type": "stream",
     "text": [
      "Fatty acids, total trans: 0.0 g\n",
      "Carbohydrate, by difference: 0.0 g\n",
      "Protein: 21.43 g\n",
      "Vitamin C, total ascorbic acid: 0.0 mg\n",
      "Total lipid (fat): 1.79 g\n",
      "Fiber, total dietary: 0.0 g\n",
      "Calcium, Ca: 0.0 mg\n",
      "Energy: 107.0 kcal\n",
      "Iron, Fe: 0.0 mg\n",
      "Vitamin A, IU: 0.0 IU\n",
      "Total Sugars: 0.0 g\n",
      "Fatty acids, total saturated: 0.89 g\n",
      "Sodium, Na: 179.0 mg\n",
      "Cholesterol: 45.0 mg\n",
      "\n"
     ]
    }
   ],
   "source": [
    "print(api_call('chicken'))"
   ]
  },
  {
   "cell_type": "code",
   "execution_count": 25,
   "metadata": {},
   "outputs": [],
   "source": [
    "from langchain_groq import ChatGroq\n",
    "import requests\n",
    "from langgraph_supervisor import create_supervisor\n",
    "from langgraph.prebuilt import create_react_agent\n",
    "\n",
    "model = ChatGroq(model=\"llama-3.3-70b-specdec\")\n",
    "USDA_API_KEY = os.getenv(\"USDA_API_KEY\")\n",
    "\n",
    "# Create specialized agents\n",
    "\n",
    "def api_call(food_name: str) -> str:\n",
    "    \"\"\"Get the nutrition information for a food item.\"\"\"\n",
    "    url = f\"https://api.nal.usda.gov/fdc/v1/foods/search?query={food_name}&api_key={USDA_API_KEY}\"\n",
    "    response = requests.get(url)\n",
    "    data = response.json()\n",
    "    food_id = data[\"foods\"][0][\"fdcId\"]\n",
    "\n",
    "    food_url = f\"https://api.nal.usda.gov/fdc/v1/food/{food_id}?api_key={USDA_API_KEY}\"\n",
    "    food_response = requests.get(food_url)\n",
    "    food_data = food_response.json()\n",
    "    nutrition_infos = food_data[\"foodNutrients\"]\n",
    "    food_nutrition = ''\n",
    "    for nutrition_info in nutrition_infos:\n",
    "        nutrient = nutrition_info['nutrient']\n",
    "        nutrient_name = nutrient['name']\n",
    "        nutrient_value = nutrition_info['amount']\n",
    "        nutrient_unit = nutrient['unitName']\n",
    "        # print(f\"{nutrient_name}: {nutrient_value} {nutrient_unit}\")\n",
    "    ######\n",
    "        food_nutrition += f\"{nutrient_name}: {nutrient_value} {nutrient_unit}\\n\"\n",
    "    return food_nutrition# Placeholder for actual API call\n",
    "\n",
    "food_agent = create_react_agent(\n",
    "    model=model,\n",
    "    tools=[api_call],\n",
    "    name=\"nutrition_expert\",\n",
    "    prompt=\"You are a nutrition expert. Always use one tool at a time.\"\n",
    ")\n",
    "\n",
    "# # Create supervisor workflow\n",
    "workflow = create_supervisor(\n",
    "    [food_agent],\n",
    "    model=model,\n",
    "    prompt=(\n",
    "        \"You are a team supervisor managing a nutrition expert.\"\n",
    "        \"For current events, use nutrition_expert. \"\n",
    "        \"For other events, use the default agent.\"\n",
    "        \"show the user the nutrition information you got from the nutrition expert.\"\n",
    "    )\n",
    ")\n",
    "\n",
    "# # Compile and run\n",
    "app = workflow.compile()\n",
    "result = app.invoke({\n",
    "    \"messages\": [\n",
    "        {\n",
    "            \"role\": \"user\",\n",
    "            \"content\": \"i need nutrition of chicken\"\n",
    "        }\n",
    "    ]\n",
    "})"
   ]
  },
  {
   "cell_type": "code",
   "execution_count": 40,
   "metadata": {},
   "outputs": [
    {
     "name": "stdout",
     "output_type": "stream",
     "text": [
      "{'messages': [HumanMessage(content='i need nutrition of chicken', additional_kwargs={}, response_metadata={}, id='fcab30a0-6a21-4059-868c-0204d2d90b9d'), AIMessage(content='', additional_kwargs={'tool_calls': [{'id': 'call_wp3g', 'function': {'arguments': '{}', 'name': 'transfer_to_nutrition_expert'}, 'type': 'function'}]}, response_metadata={'token_usage': {'completion_tokens': 14, 'prompt_tokens': 255, 'total_tokens': 269, 'completion_time': 0.013914545, 'prompt_time': 0.025947191, 'queue_time': 0.235734708, 'total_time': 0.039861736}, 'model_name': 'llama-3.3-70b-specdec', 'system_fingerprint': 'fp_985f1e4133', 'finish_reason': 'tool_calls', 'logprobs': None}, name='supervisor', id='run-bf1cfdd2-5896-4a37-8866-9154019c0fa3-0', tool_calls=[{'name': 'transfer_to_nutrition_expert', 'args': {}, 'id': 'call_wp3g', 'type': 'tool_call'}], usage_metadata={'input_tokens': 255, 'output_tokens': 14, 'total_tokens': 269}), ToolMessage(content='Successfully transferred to nutrition_expert', name='transfer_to_nutrition_expert', id='9241bb92-13ea-487d-9e0f-248ac761d9d5', tool_call_id='call_wp3g'), AIMessage(content='Here is the nutrition information for chicken:\\n\\n* Fatty acids, total trans: 0.0 g\\n* Carbohydrate, by difference: 0.0 g\\n* Protein: 21.43 g\\n* Vitamin C, total ascorbic acid: 0.0 mg\\n* Total lipid (fat): 1.79 g\\n* Fiber, total dietary: 0.0 g\\n* Calcium, Ca: 0.0 mg\\n* Energy: 107.0 kcal\\n* Iron, Fe: 0.0 mg\\n* Vitamin A, IU: 0.0 IU\\n* Total Sugars: 0.0 g\\n* Fatty acids, total saturated: 0.89 g\\n* Sodium, Na: 179.0 mg\\n* Cholesterol: 45.0 mg\\n\\nPlease note that the exact nutrition information may vary depending on the specific type and cut of chicken, as well as any cooking methods or seasonings used. If you have any specific questions or concerns, feel free to ask!', additional_kwargs={}, response_metadata={'token_usage': {'completion_tokens': 219, 'prompt_tokens': 453, 'total_tokens': 672, 'completion_time': 0.076829872, 'prompt_time': 0.046198558, 'queue_time': 0.23635889100000002, 'total_time': 0.12302843}, 'model_name': 'llama-3.3-70b-specdec', 'system_fingerprint': 'fp_985f1e4133', 'finish_reason': 'stop', 'logprobs': None}, name='nutrition_expert', id='run-8f3b99d1-5bd8-43e3-a17a-5d5631cb5ad0-0', usage_metadata={'input_tokens': 453, 'output_tokens': 219, 'total_tokens': 672}), AIMessage(content='Transferring back to supervisor', additional_kwargs={}, response_metadata={}, name='nutrition_expert', id='74d5a2b8-995f-4aa9-9a9f-da0fb6476b19', tool_calls=[{'name': 'transfer_back_to_supervisor', 'args': {}, 'id': '0aae747a-c85f-4b5e-95e7-b94f4e9cc63a', 'type': 'tool_call'}]), ToolMessage(content='Successfully transferred back to supervisor', name='transfer_back_to_supervisor', id='ab59019f-1214-4e93-808f-c56134b08290', tool_call_id='0aae747a-c85f-4b5e-95e7-b94f4e9cc63a'), AIMessage(content=\"I hope the nutrition information for chicken was helpful. Let me know if you have any other questions or if there's anything else I can help you with.\", additional_kwargs={}, response_metadata={'token_usage': {'completion_tokens': 32, 'prompt_tokens': 537, 'total_tokens': 569, 'completion_time': 0.020103721, 'prompt_time': 0.054760404, 'queue_time': 0.236186024, 'total_time': 0.074864125}, 'model_name': 'llama-3.3-70b-specdec', 'system_fingerprint': 'fp_985f1e4133', 'finish_reason': 'stop', 'logprobs': None}, name='supervisor', id='run-cdf6967a-7571-49e1-9b6d-f106b6a30001-0', usage_metadata={'input_tokens': 537, 'output_tokens': 32, 'total_tokens': 569})]}\n"
     ]
    }
   ],
   "source": [
    "print(result)"
   ]
  },
  {
   "cell_type": "code",
   "execution_count": 41,
   "metadata": {},
   "outputs": [
    {
     "name": "stdout",
     "output_type": "stream",
     "text": [
      "i need nutrition of chicken\n",
      "\n",
      "Successfully transferred to nutrition_expert\n",
      "Here is the nutrition information for chicken:\n",
      "\n",
      "* Fatty acids, total trans: 0.0 g\n",
      "* Carbohydrate, by difference: 0.0 g\n",
      "* Protein: 21.43 g\n",
      "* Vitamin C, total ascorbic acid: 0.0 mg\n",
      "* Total lipid (fat): 1.79 g\n",
      "* Fiber, total dietary: 0.0 g\n",
      "* Calcium, Ca: 0.0 mg\n",
      "* Energy: 107.0 kcal\n",
      "* Iron, Fe: 0.0 mg\n",
      "* Vitamin A, IU: 0.0 IU\n",
      "* Total Sugars: 0.0 g\n",
      "* Fatty acids, total saturated: 0.89 g\n",
      "* Sodium, Na: 179.0 mg\n",
      "* Cholesterol: 45.0 mg\n",
      "\n",
      "Please note that the exact nutrition information may vary depending on the specific type and cut of chicken, as well as any cooking methods or seasonings used. If you have any specific questions or concerns, feel free to ask!\n",
      "Transferring back to supervisor\n",
      "Successfully transferred back to supervisor\n",
      "I hope the nutrition information for chicken was helpful. Let me know if you have any other questions or if there's anything else I can help you with.\n"
     ]
    }
   ],
   "source": [
    "# Hiển thị toàn bộ messages từ result\n",
    "for message in result[\"messages\"]:\n",
    "    \n",
    "    print(message.content)\n"
   ]
  },
  {
   "cell_type": "markdown",
   "metadata": {},
   "source": [
    "### 1. Reply with information (by adding history to prompt)"
   ]
  },
  {
   "cell_type": "code",
   "execution_count": 7,
   "metadata": {},
   "outputs": [
    {
     "name": "stdout",
     "output_type": "stream",
     "text": [
      "The nutrition information for beef is as follows: \n",
      "* Total Sugars: 0.0 g\n",
      "* Vitamin C, total ascorbic acid: 0.0 mg\n",
      "* Protein: 20.0 g\n",
      "* Total lipid (fat): 5.88 g\n",
      "* Fatty acids, total trans: 0.0 g\n",
      "* Fatty acids, total saturated: 4.12 g\n",
      "* Vitamin A, IU: 0.0 IU\n",
      "* Iron, Fe: 4.24 mg\n",
      "* Carbohydrate, by difference: 0.0 g\n",
      "* Energy: 129.0 kcal\n",
      "* Sodium, Na: 212.0 mg\n",
      "* Calcium, Ca: 0.0 mg\n",
      "* Cholesterol: 53.0 mg\n",
      "* Fiber, total dietary: 0.0 g\n",
      "According to the USDA Food.\n"
     ]
    }
   ],
   "source": [
    "from langchain_groq import ChatGroq\n",
    "import requests\n",
    "from langgraph_supervisor import create_supervisor\n",
    "from langgraph.prebuilt import create_react_agent\n",
    "import os\n",
    "\n",
    "model = ChatGroq(model=\"llama-3.3-70b-specdec\")\n",
    "USDA_API_KEY = os.getenv(\"USDA_API_KEY\")\n",
    "\n",
    "# Create specialized agents\n",
    "def api_call(food_name: str) -> str:\n",
    "    \"\"\"Get the nutrition information for a food item.\"\"\"\n",
    "    url = f\"https://api.nal.usda.gov/fdc/v1/foods/search?query={food_name}&api_key={USDA_API_KEY}\"\n",
    "    response = requests.get(url)\n",
    "    data = response.json()\n",
    "    food_id = data[\"foods\"][0][\"fdcId\"]\n",
    "    food_url = f\"https://api.nal.usda.gov/fdc/v1/food/{food_id}?api_key={USDA_API_KEY}\"\n",
    "    food_response = requests.get(food_url)\n",
    "    food_data = food_response.json()\n",
    "    nutrition_infos = food_data[\"foodNutrients\"]\n",
    "    food_nutrition = ''\n",
    "    for nutrition_info in nutrition_infos:\n",
    "        nutrient = nutrition_info['nutrient']\n",
    "        nutrient_name = nutrient['name']\n",
    "        nutrient_value = nutrition_info['amount']\n",
    "        nutrient_unit = nutrient['unitName']\n",
    "        food_nutrition += f\"{nutrient_name}: {nutrient_value} {nutrient_unit}\\n\"\n",
    "    return food_nutrition\n",
    "\n",
    "# Create the food agent\n",
    "food_agent = create_react_agent(\n",
    "    model=model,\n",
    "    tools=[api_call],\n",
    "    name=\"nutrition_expert\",\n",
    "    prompt=\"You are a nutrition expert. Use the api_call tool to get nutrition information. Format your response clearly with bullet points. DO NOT transfer back to supervisor with a different message. Your full nutrition information should be in your final response.\"\n",
    ")\n",
    "\n",
    "# Create supervisor with improved prompt\n",
    "workflow = create_supervisor(\n",
    "    [food_agent],\n",
    "    model=model,\n",
    "    prompt=(\n",
    "        \"You are a helpful assistant that coordinates with a nutrition expert agent.\\n\"\n",
    "        \"When a user asks about food nutrition, route their query to the nutrition_expert agent.\\n\"\n",
    "        \"IMPORTANT: When the nutrition_expert provides information, do not respond with a generic message.\\n\" \n",
    "        \"Instead, use the nutrition information that the nutrition_expert provided.\\n\"\n",
    "        \"For example, if nutrition_expert says 'Here is the nutrition information for chicken:' followed by nutrition facts,\\n\"\n",
    "        \"your response should include all of that information verbatim.\\n\"\n",
    "        \"DO NOT just say 'I hope the nutrition information was helpful' - use the actual nutrition data in your response.\\n\"\n",
    "        \"You should act as if YOU are providing the nutrition information directly to the user.\\n\"\n",
    "        \"For queries unrelated to food nutrition, respond directly as a helpful assistant.\\n\"\n",
    "        \"And provide the source of the information as USDA Food.\\n\"\n",
    "    )\n",
    ")\n",
    "\n",
    "# Compile workflow\n",
    "app = workflow.compile()\n",
    "\n",
    "# Function to chat with the nutrition bot\n",
    "def chat_with_nutrition_bot(user_input, previous_messages=None):\n",
    "    if previous_messages is None:\n",
    "        previous_messages = []\n",
    "    \n",
    "    messages = previous_messages + [{\"role\": \"user\", \"content\": user_input}]\n",
    "    \n",
    "    result = app.invoke({\"messages\": messages})\n",
    "    # print(previous_messages)\n",
    "    # The final message in the result contains the supervisor's response\n",
    "    return result[\"messages\"][-1].content, result[\"messages\"]\n",
    "\n",
    "# Example usage\n",
    "message_history = []\n",
    "response, message_history = chat_with_nutrition_bot(\"i need nutrition of beef\", message_history)\n",
    "print(response)\n",
    "# print(message_history)"
   ]
  }
 ],
 "metadata": {
  "kernelspec": {
   "display_name": "graduate",
   "language": "python",
   "name": "python3"
  },
  "language_info": {
   "codemirror_mode": {
    "name": "ipython",
    "version": 3
   },
   "file_extension": ".py",
   "mimetype": "text/x-python",
   "name": "python",
   "nbconvert_exporter": "python",
   "pygments_lexer": "ipython3",
   "version": "3.10.16"
  }
 },
 "nbformat": 4,
 "nbformat_minor": 2
}
